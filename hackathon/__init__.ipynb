{
 "cells": [
  {
   "cell_type": "code",
   "execution_count": null,
   "metadata": {},
   "outputs": [],
   "source": [
    "from flask import Flask\n",
    "from flask_sqlalchemy import SQLAlchemy\n",
    "\n",
    "app = Flask(__name__)\n",
    "app.config['SECRET_KEY'] = b'\\xc5!\\xddk\\xd7\\x08\\x85\\x973H\\x7f\\xc5D}\\xf5\\x92ZMW\\xd0g(\\x01\\x03'\n",
    "app.config['SQLALCHEMY_DATABASE_URI'] = 'sqlite:///site.db'\n",
    "db = SQLAlchemy(app)\n",
    "\n",
    "from hackathon import routes"
   ]
  }
 ],
 "metadata": {
  "kernelspec": {
   "display_name": "Python 3",
   "language": "python",
   "name": "python3"
  },
  "language_info": {
   "codemirror_mode": {
    "name": "ipython",
    "version": 3
   },
   "file_extension": ".py",
   "mimetype": "text/x-python",
   "name": "python",
   "nbconvert_exporter": "python",
   "pygments_lexer": "ipython3",
   "version": "3.6.9"
  }
 },
 "nbformat": 4,
 "nbformat_minor": 4
}
